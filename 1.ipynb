{
 "cells": [
  {
   "cell_type": "code",
   "execution_count": 2,
   "metadata": {},
   "outputs": [],
   "source": [
    "import pandas as pd\n",
    "import pickle\n",
    "import torch\n",
    "from IPython.display import clear_output"
   ]
  },
  {
   "cell_type": "code",
   "execution_count": 57,
   "metadata": {},
   "outputs": [
    {
     "data": {
      "text/html": [
       "<div>\n",
       "<style scoped>\n",
       "    .dataframe tbody tr th:only-of-type {\n",
       "        vertical-align: middle;\n",
       "    }\n",
       "\n",
       "    .dataframe tbody tr th {\n",
       "        vertical-align: top;\n",
       "    }\n",
       "\n",
       "    .dataframe thead th {\n",
       "        text-align: right;\n",
       "    }\n",
       "</style>\n",
       "<table border=\"1\" class=\"dataframe\">\n",
       "  <thead>\n",
       "    <tr style=\"text-align: right;\">\n",
       "      <th></th>\n",
       "      <th>text</th>\n",
       "      <th>tags</th>\n",
       "      <th>preds</th>\n",
       "    </tr>\n",
       "  </thead>\n",
       "  <tbody>\n",
       "    <tr>\n",
       "      <th>0</th>\n",
       "      <td>[Angmars, armies, had, taken, Fornost, the, ca...</td>\n",
       "      <td>[B-LOC, O, O, O, B-LOC, O, O, O, O, O, O, B-PE...</td>\n",
       "      <td>[O, O, O, O, I-LOC, O, O, O, O, I-PER, O, I-PE...</td>\n",
       "    </tr>\n",
       "    <tr>\n",
       "      <th>1</th>\n",
       "      <td>[He, lacks, the, unique, helmet, worn, by, oth...</td>\n",
       "      <td>[O, O, O, O, O, O, O, O, B-ORG, O]</td>\n",
       "      <td>[O, O, O, O, O, O, O, O, I-PER, O]</td>\n",
       "    </tr>\n",
       "    <tr>\n",
       "      <th>2</th>\n",
       "      <td>[The, name, Valandil, means, Friend, of, Gods,...</td>\n",
       "      <td>[O, O, B-PER, O, O, O, O, O, B-MISC]</td>\n",
       "      <td>[O, O, I-PER, O, O, O, I-PER, O, I-MISC]</td>\n",
       "    </tr>\n",
       "    <tr>\n",
       "      <th>3</th>\n",
       "      <td>[Guarding, the, entrance, was, the, Black, Gat...</td>\n",
       "      <td>[O, O, O, O, B-LOC, I-LOC, I-LOC, I-LOC, I-LOC]</td>\n",
       "      <td>[O, O, O, O, O, I-LOC, O, O, I-LOC]</td>\n",
       "    </tr>\n",
       "    <tr>\n",
       "      <th>4</th>\n",
       "      <td>[The, rest, of, the, Ñoldor, continued, north,...</td>\n",
       "      <td>[O, O, O, O, O, O, O, O, O, O, O, O, O, O, O, ...</td>\n",
       "      <td>[O, O, O, O, I-PER, O, I-LOC, O, O, O, O, O, O...</td>\n",
       "    </tr>\n",
       "  </tbody>\n",
       "</table>\n",
       "</div>"
      ],
      "text/plain": [
       "                                                text  \\\n",
       "0  [Angmars, armies, had, taken, Fornost, the, ca...   \n",
       "1  [He, lacks, the, unique, helmet, worn, by, oth...   \n",
       "2  [The, name, Valandil, means, Friend, of, Gods,...   \n",
       "3  [Guarding, the, entrance, was, the, Black, Gat...   \n",
       "4  [The, rest, of, the, Ñoldor, continued, north,...   \n",
       "\n",
       "                                                tags  \\\n",
       "0  [B-LOC, O, O, O, B-LOC, O, O, O, O, O, O, B-PE...   \n",
       "1                 [O, O, O, O, O, O, O, O, B-ORG, O]   \n",
       "2               [O, O, B-PER, O, O, O, O, O, B-MISC]   \n",
       "3    [O, O, O, O, B-LOC, I-LOC, I-LOC, I-LOC, I-LOC]   \n",
       "4  [O, O, O, O, O, O, O, O, O, O, O, O, O, O, O, ...   \n",
       "\n",
       "                                               preds  \n",
       "0  [O, O, O, O, I-LOC, O, O, O, O, I-PER, O, I-PE...  \n",
       "1                 [O, O, O, O, O, O, O, O, I-PER, O]  \n",
       "2           [O, O, I-PER, O, O, O, I-PER, O, I-MISC]  \n",
       "3                [O, O, O, O, O, I-LOC, O, O, I-LOC]  \n",
       "4  [O, O, O, O, I-PER, O, I-LOC, O, O, O, O, O, O...  "
      ]
     },
     "execution_count": 57,
     "metadata": {},
     "output_type": "execute_result"
    }
   ],
   "source": [
    "preds = pickle.load(open(r\"C:\\Users\\wilkk\\preds.data\",'rb'))\n",
    "with open(r'data\\lotr_test\\test_label_true.txt', encoding='utf-8') as f:\n",
    "    truth = f.read().splitlines()\n",
    "    truth = [x.split() for x in truth] \n",
    "\n",
    "with open(r'data\\lotr_test\\test_text.txt', encoding='utf-8') as f:\n",
    "    text = f.read().splitlines()\n",
    "    text = [x.split() for x in text] \n",
    "\n",
    "data = pd.DataFrame({'text': text, 'tags': truth, 'preds': preds})\n",
    "data.head()"
   ]
  },
  {
   "cell_type": "code",
   "execution_count": 59,
   "metadata": {},
   "outputs": [],
   "source": [
    "indices = []"
   ]
  },
  {
   "cell_type": "code",
   "execution_count": 62,
   "metadata": {},
   "outputs": [
    {
     "name": "stdout",
     "output_type": "stream",
     "text": [
      "Dernhelm   B-MISC     I-LOC     \n",
      "in         I-MISC     O         \n",
      "Battle     I-MISC     O         \n",
      "is         O          O         \n",
      "the        O          O         \n",
      "thirty-fifth O          O         \n",
      "soundtrack O          O         \n",
      "of         O          O         \n",
      "the        O          O         \n",
      "Complete   O          O         \n",
      "Recordings O          O         \n",
      "of         O          O         \n"
     ]
    }
   ],
   "source": [
    "f = \"{:<10} {:<10} {:<10}\"\n",
    "for i in range(0,500):\n",
    "    for j in range(len(data['text'][i])):\n",
    "        print(f.format(data['text'][i][j], data['tags'][i][j], data['preds'][i][j]))\n",
    "    x = input()\n",
    "    if x == 'exit':\n",
    "        break\n",
    "    elif x:\n",
    "        indices.append(i)\n",
    "    clear_output(wait=True)\n"
   ]
  },
  {
   "cell_type": "code",
   "execution_count": 3,
   "metadata": {},
   "outputs": [],
   "source": [
    "import sys\n",
    "sys.path.insert(0,\"src/\")\n",
    "from ray import air, tune\n",
    "from hp_trainer import *"
   ]
  },
  {
   "cell_type": "code",
   "execution_count": 6,
   "metadata": {},
   "outputs": [
    {
     "ename": "ImportError",
     "evalue": "cannot import name 'partrial' from 'ray' (C:\\Users\\wilkk\\AppData\\Local\\Packages\\PythonSoftwareFoundation.Python.3.10_qbz5n2kfra8p0\\LocalCache\\local-packages\\Python310\\site-packages\\ray\\__init__.py)",
     "output_type": "error",
     "traceback": [
      "\u001b[1;31m---------------------------------------------------------------------------\u001b[0m",
      "\u001b[1;31mImportError\u001b[0m                               Traceback (most recent call last)",
      "\u001b[1;32mc:\\Users\\wilkk\\OneDrive - ITU\\2nd year\\2nd year project\\roster\\1.ipynb Cell 6\u001b[0m in \u001b[0;36m<cell line: 1>\u001b[1;34m()\u001b[0m\n\u001b[1;32m----> <a href='vscode-notebook-cell:/c%3A/Users/wilkk/OneDrive%20-%20ITU/2nd%20year/2nd%20year%20project/roster/1.ipynb#X11sZmlsZQ%3D%3D?line=0'>1</a>\u001b[0m \u001b[39mfrom\u001b[39;00m \u001b[39mray\u001b[39;00m \u001b[39mimport\u001b[39;00m partrial\n",
      "\u001b[1;31mImportError\u001b[0m: cannot import name 'partrial' from 'ray' (C:\\Users\\wilkk\\AppData\\Local\\Packages\\PythonSoftwareFoundation.Python.3.10_qbz5n2kfra8p0\\LocalCache\\local-packages\\Python310\\site-packages\\ray\\__init__.py)"
     ]
    }
   ],
   "source": [
    "from ray."
   ]
  },
  {
   "cell_type": "code",
   "execution_count": 3,
   "metadata": {},
   "outputs": [
    {
     "data": {
      "text/plain": [
       "(0, 0)"
      ]
     },
     "execution_count": 3,
     "metadata": {},
     "output_type": "execute_result"
    }
   ],
   "source": [
    "losses = tuple([0,0])\n",
    "losses"
   ]
  },
  {
   "cell_type": "code",
   "execution_count": null,
   "metadata": {},
   "outputs": [],
   "source": []
  }
 ],
 "metadata": {
  "kernelspec": {
   "display_name": "Python 3",
   "language": "python",
   "name": "python3"
  },
  "language_info": {
   "codemirror_mode": {
    "name": "ipython",
    "version": 3
   },
   "file_extension": ".py",
   "mimetype": "text/x-python",
   "name": "python",
   "nbconvert_exporter": "python",
   "pygments_lexer": "ipython3",
   "version": "3.10.11"
  },
  "orig_nbformat": 4
 },
 "nbformat": 4,
 "nbformat_minor": 2
}
