{
 "cells": [
  {
   "cell_type": "code",
   "execution_count": 1,
   "metadata": {},
   "outputs": [],
   "source": [
    "import pandas as pd\n",
    "import pickle\n",
    "import torch\n",
    "from IPython.display import clear_output"
   ]
  },
  {
   "cell_type": "code",
   "execution_count": 20,
   "metadata": {},
   "outputs": [
    {
     "name": "stdout",
     "output_type": "stream",
     "text": [
      "{'key1': 10, 'key2': 32, 'key3': 0.92, 'key4': 132}\n"
     ]
    }
   ],
   "source": [
    "import random\n",
    "\n",
    "def generate_random_dictionary(keys, values):\n",
    "    random_dict = dict(zip(keys, values))\n",
    "    return random_dict\n",
    "\n",
    "keys = ['key1', 'key2', 'key3', 'key4']\n",
    "values = random.sample([10, 32, .92, 132],k=4)\n",
    "\n",
    "d = generate_random_dictionary(keys, values)\n",
    "print(d)"
   ]
  },
  {
   "cell_type": "code",
   "execution_count": 21,
   "metadata": {},
   "outputs": [],
   "source": [
    "for key in d.keys():\n",
    "    d[key] = {'value':d[key]}"
   ]
  },
  {
   "cell_type": "code",
   "execution_count": 24,
   "metadata": {},
   "outputs": [
    {
     "data": {
      "text/plain": [
       "{'key1': {'value': {'value': {'value': {'value': 10}}}},\n",
       " 'key2': {'value': {'value': {'value': {'value': 32}}}},\n",
       " 'key3': {'value': {'value': {'value': {'value': 0.92}}}},\n",
       " 'key4': {'value': {'value': {'value': {'value': 132}}}}}"
      ]
     },
     "execution_count": 24,
     "metadata": {},
     "output_type": "execute_result"
    }
   ],
   "source": [
    "d = {key: {'value': value} for key, value in d.items()}\n",
    "d"
   ]
  },
  {
   "cell_type": "code",
   "execution_count": 19,
   "metadata": {},
   "outputs": [
    {
     "data": {
      "text/plain": [
       "{'key1': {'values': 0.92},\n",
       " 'key2': {'values': 32},\n",
       " 'key3': {'values': 10},\n",
       " 'key4': {'values': 132}}"
      ]
     },
     "execution_count": 19,
     "metadata": {},
     "output_type": "execute_result"
    }
   ],
   "source": [
    "d"
   ]
  },
  {
   "attachments": {},
   "cell_type": "markdown",
   "metadata": {},
   "source": [
    "## View preds"
   ]
  },
  {
   "cell_type": "code",
   "execution_count": 57,
   "metadata": {},
   "outputs": [
    {
     "data": {
      "text/html": [
       "<div>\n",
       "<style scoped>\n",
       "    .dataframe tbody tr th:only-of-type {\n",
       "        vertical-align: middle;\n",
       "    }\n",
       "\n",
       "    .dataframe tbody tr th {\n",
       "        vertical-align: top;\n",
       "    }\n",
       "\n",
       "    .dataframe thead th {\n",
       "        text-align: right;\n",
       "    }\n",
       "</style>\n",
       "<table border=\"1\" class=\"dataframe\">\n",
       "  <thead>\n",
       "    <tr style=\"text-align: right;\">\n",
       "      <th></th>\n",
       "      <th>text</th>\n",
       "      <th>tags</th>\n",
       "      <th>preds</th>\n",
       "    </tr>\n",
       "  </thead>\n",
       "  <tbody>\n",
       "    <tr>\n",
       "      <th>0</th>\n",
       "      <td>[Angmars, armies, had, taken, Fornost, the, ca...</td>\n",
       "      <td>[B-LOC, O, O, O, B-LOC, O, O, O, O, O, O, B-PE...</td>\n",
       "      <td>[O, O, O, O, I-LOC, O, O, O, O, I-PER, O, I-PE...</td>\n",
       "    </tr>\n",
       "    <tr>\n",
       "      <th>1</th>\n",
       "      <td>[He, lacks, the, unique, helmet, worn, by, oth...</td>\n",
       "      <td>[O, O, O, O, O, O, O, O, B-ORG, O]</td>\n",
       "      <td>[O, O, O, O, O, O, O, O, I-PER, O]</td>\n",
       "    </tr>\n",
       "    <tr>\n",
       "      <th>2</th>\n",
       "      <td>[The, name, Valandil, means, Friend, of, Gods,...</td>\n",
       "      <td>[O, O, B-PER, O, O, O, O, O, B-MISC]</td>\n",
       "      <td>[O, O, I-PER, O, O, O, I-PER, O, I-MISC]</td>\n",
       "    </tr>\n",
       "    <tr>\n",
       "      <th>3</th>\n",
       "      <td>[Guarding, the, entrance, was, the, Black, Gat...</td>\n",
       "      <td>[O, O, O, O, B-LOC, I-LOC, I-LOC, I-LOC, I-LOC]</td>\n",
       "      <td>[O, O, O, O, O, I-LOC, O, O, I-LOC]</td>\n",
       "    </tr>\n",
       "    <tr>\n",
       "      <th>4</th>\n",
       "      <td>[The, rest, of, the, Ñoldor, continued, north,...</td>\n",
       "      <td>[O, O, O, O, O, O, O, O, O, O, O, O, O, O, O, ...</td>\n",
       "      <td>[O, O, O, O, I-PER, O, I-LOC, O, O, O, O, O, O...</td>\n",
       "    </tr>\n",
       "  </tbody>\n",
       "</table>\n",
       "</div>"
      ],
      "text/plain": [
       "                                                text  \\\n",
       "0  [Angmars, armies, had, taken, Fornost, the, ca...   \n",
       "1  [He, lacks, the, unique, helmet, worn, by, oth...   \n",
       "2  [The, name, Valandil, means, Friend, of, Gods,...   \n",
       "3  [Guarding, the, entrance, was, the, Black, Gat...   \n",
       "4  [The, rest, of, the, Ñoldor, continued, north,...   \n",
       "\n",
       "                                                tags  \\\n",
       "0  [B-LOC, O, O, O, B-LOC, O, O, O, O, O, O, B-PE...   \n",
       "1                 [O, O, O, O, O, O, O, O, B-ORG, O]   \n",
       "2               [O, O, B-PER, O, O, O, O, O, B-MISC]   \n",
       "3    [O, O, O, O, B-LOC, I-LOC, I-LOC, I-LOC, I-LOC]   \n",
       "4  [O, O, O, O, O, O, O, O, O, O, O, O, O, O, O, ...   \n",
       "\n",
       "                                               preds  \n",
       "0  [O, O, O, O, I-LOC, O, O, O, O, I-PER, O, I-PE...  \n",
       "1                 [O, O, O, O, O, O, O, O, I-PER, O]  \n",
       "2           [O, O, I-PER, O, O, O, I-PER, O, I-MISC]  \n",
       "3                [O, O, O, O, O, I-LOC, O, O, I-LOC]  \n",
       "4  [O, O, O, O, I-PER, O, I-LOC, O, O, O, O, O, O...  "
      ]
     },
     "execution_count": 57,
     "metadata": {},
     "output_type": "execute_result"
    }
   ],
   "source": [
    "preds = pickle.load(open(r\"C:\\Users\\wilkk\\preds.data\",'rb'))\n",
    "with open(r'data\\lotr_test\\test_label_true.txt', encoding='utf-8') as f:\n",
    "    truth = f.read().splitlines()\n",
    "    truth = [x.split() for x in truth] \n",
    "\n",
    "with open(r'data\\lotr_test\\test_text.txt', encoding='utf-8') as f:\n",
    "    text = f.read().splitlines()\n",
    "    text = [x.split() for x in text] \n",
    "\n",
    "data = pd.DataFrame({'text': text, 'tags': truth, 'preds': preds})\n",
    "data.head()"
   ]
  },
  {
   "cell_type": "code",
   "execution_count": 59,
   "metadata": {},
   "outputs": [],
   "source": [
    "indices = []"
   ]
  },
  {
   "cell_type": "code",
   "execution_count": 62,
   "metadata": {},
   "outputs": [
    {
     "name": "stdout",
     "output_type": "stream",
     "text": [
      "Dernhelm   B-MISC     I-LOC     \n",
      "in         I-MISC     O         \n",
      "Battle     I-MISC     O         \n",
      "is         O          O         \n",
      "the        O          O         \n",
      "thirty-fifth O          O         \n",
      "soundtrack O          O         \n",
      "of         O          O         \n",
      "the        O          O         \n",
      "Complete   O          O         \n",
      "Recordings O          O         \n",
      "of         O          O         \n"
     ]
    }
   ],
   "source": [
    "f = \"{:<10} {:<10} {:<10}\"\n",
    "for i in range(0,500):\n",
    "    for j in range(len(data['text'][i])):\n",
    "        print(f.format(data['text'][i][j], data['tags'][i][j], data['preds'][i][j]))\n",
    "    x = input()\n",
    "    if x == 'exit':\n",
    "        break\n",
    "    elif x:\n",
    "        indices.append(i)\n",
    "    clear_output(wait=True)\n"
   ]
  }
 ],
 "metadata": {
  "kernelspec": {
   "display_name": "Python 3",
   "language": "python",
   "name": "python3"
  },
  "language_info": {
   "codemirror_mode": {
    "name": "ipython",
    "version": 3
   },
   "file_extension": ".py",
   "mimetype": "text/x-python",
   "name": "python",
   "nbconvert_exporter": "python",
   "pygments_lexer": "ipython3",
   "version": "3.10.11"
  },
  "orig_nbformat": 4
 },
 "nbformat": 4,
 "nbformat_minor": 2
}
